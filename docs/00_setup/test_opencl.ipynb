{
 "cells": [
  {
   "cell_type": "markdown",
   "id": "bc3a2cea-3363-47ff-b590-b369b75f4329",
   "metadata": {},
   "source": [
    "# Test GPU / OpenCL\n",
    "First, we see if a GPU is detected and used."
   ]
  },
  {
   "cell_type": "code",
   "execution_count": 1,
   "id": "faecca78-903a-4718-a314-6d4cf5aa3f0d",
   "metadata": {
    "tags": []
   },
   "outputs": [
    {
     "data": {
      "text/plain": [
       "<gfx1103 on Platform: AMD Accelerated Parallel Processing (2 refs)>"
      ]
     },
     "execution_count": 1,
     "metadata": {},
     "output_type": "execute_result"
    }
   ],
   "source": [
    "import pyclesperanto_prototype as cle\n",
    "cle.get_device()"
   ]
  },
  {
   "cell_type": "markdown",
   "id": "a2fd79ad-ec51-4846-b2f4-75604aeb2f96",
   "metadata": {
    "tags": []
   },
   "source": [
    "Second, we can list all available devices."
   ]
  },
  {
   "cell_type": "code",
   "execution_count": 2,
   "id": "f41a3b4c-afac-402b-97e6-1f3bc5900fa6",
   "metadata": {
    "tags": []
   },
   "outputs": [
    {
     "data": {
      "text/plain": [
       "['NVIDIA GeForce RTX 4070 Laptop GPU', 'gfx1103']"
      ]
     },
     "execution_count": 2,
     "metadata": {},
     "output_type": "execute_result"
    }
   ],
   "source": [
    "cle.available_device_names()"
   ]
  },
  {
   "cell_type": "markdown",
   "id": "cea6a37a-645d-4875-9db1-5c9551459437",
   "metadata": {},
   "source": [
    "We can then select a different one."
   ]
  },
  {
   "cell_type": "code",
   "execution_count": 3,
   "id": "d40989f8-0510-4947-9ca9-fe438eaff978",
   "metadata": {
    "tags": []
   },
   "outputs": [
    {
     "data": {
      "text/plain": [
       "<NVIDIA GeForce RTX 4070 Laptop GPU on Platform: NVIDIA CUDA (1 refs)>"
      ]
     },
     "execution_count": 3,
     "metadata": {},
     "output_type": "execute_result"
    }
   ],
   "source": [
    "cle.select_device(\"RTX\")\n",
    "cle.get_device()"
   ]
  }
 ],
 "metadata": {
  "kernelspec": {
   "display_name": "Python 3 (ipykernel)",
   "language": "python",
   "name": "python3"
  },
  "language_info": {
   "codemirror_mode": {
    "name": "ipython",
    "version": 3
   },
   "file_extension": ".py",
   "mimetype": "text/x-python",
   "name": "python",
   "nbconvert_exporter": "python",
   "pygments_lexer": "ipython3",
   "version": "3.11.13"
  }
 },
 "nbformat": 4,
 "nbformat_minor": 5
}
